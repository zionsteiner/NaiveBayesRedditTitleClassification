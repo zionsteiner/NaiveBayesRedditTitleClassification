{
 "cells": [
  {
   "cell_type": "markdown",
   "metadata": {},
   "source": [
    "# CS5830 Naive Bayes\n",
    "Chetan, Zion Steiner"
   ]
  },
  {
   "cell_type": "code",
   "execution_count": 2,
   "metadata": {},
   "outputs": [],
   "source": [
    "import pandas as pd\n",
    "import matplotlib.pyplot as plt\n",
    "import seaborn as sns\n",
    "import sklearn\n",
    "import numpy as np\n",
    "import praw"
   ]
  },
  {
   "cell_type": "markdown",
   "metadata": {},
   "source": [
    "### Subreddits\n",
    "* AskReddit\n",
    "* WritingPrompts\n",
    "* TIL\n",
    "* WorldNews\n",
    "* UnethicalLifeProTips\n",
    "\n",
    "### Procedure\n",
    "Collect the 500 top posts titles from each subreddit. Use naivebayes to attempt to classify based on word frequency and title length."
   ]
  },
  {
   "cell_type": "code",
   "execution_count": 3,
   "metadata": {},
   "outputs": [],
   "source": [
    "# Init API with credentials\n",
    "reddit = praw.Reddit(client_id='IyeHu8CuF0DQhw',\n",
    "                     client_secret=\"aaG9Z5FJpv0dHEBWnUmrNnpC0jU\", password='Bluetomcat101',\n",
    "                     user_agent='script:naiveBayesClassification:v1.0.0 (by /u/aquaticLumbar)', username='aquaticLumbar')"
   ]
  },
  {
   "cell_type": "code",
   "execution_count": 5,
   "metadata": {},
   "outputs": [],
   "source": [
    "# Collect post titles\n",
    "df_title = pd.DataFrame(columns=['subreddit', 'title'])\n",
    "subs = ['AskReddit', 'WritingPrompts', 'todayilearned', 'worldnews', 'UnethicalLifeProTips']\n",
    "for sub in subs:\n",
    "    subreddit = reddit.subreddit(sub)\n",
    "    for post in subreddit.top('all', limit=500):\n",
    "        df = df.append({'subreddit': sub,\n",
    "                        'title': post.title}, ignore_index=True)"
   ]
  },
  {
   "cell_type": "code",
   "execution_count": 9,
   "metadata": {},
   "outputs": [],
   "source": [
    "# Save data\n",
    "df.to_csv('data/titles.csv')"
   ]
  },
  {
   "cell_type": "code",
   "execution_count": 10,
   "metadata": {},
   "outputs": [
    {
     "data": {
      "text/html": [
       "<div>\n",
       "<style scoped>\n",
       "    .dataframe tbody tr th:only-of-type {\n",
       "        vertical-align: middle;\n",
       "    }\n",
       "\n",
       "    .dataframe tbody tr th {\n",
       "        vertical-align: top;\n",
       "    }\n",
       "\n",
       "    .dataframe thead th {\n",
       "        text-align: right;\n",
       "    }\n",
       "</style>\n",
       "<table border=\"1\" class=\"dataframe\">\n",
       "  <thead>\n",
       "    <tr style=\"text-align: right;\">\n",
       "      <th></th>\n",
       "      <th>subreddit</th>\n",
       "      <th>title</th>\n",
       "    </tr>\n",
       "  </thead>\n",
       "  <tbody>\n",
       "    <tr>\n",
       "      <th>0</th>\n",
       "      <td>AskReddit</td>\n",
       "      <td>People who haven't pooped in 2019 yet, why are...</td>\n",
       "    </tr>\n",
       "    <tr>\n",
       "      <th>1</th>\n",
       "      <td>AskReddit</td>\n",
       "      <td>How would you feel about a feature where if so...</td>\n",
       "    </tr>\n",
       "    <tr>\n",
       "      <th>2</th>\n",
       "      <td>AskReddit</td>\n",
       "      <td>Stan Lee has passed away at 95 years old</td>\n",
       "    </tr>\n",
       "    <tr>\n",
       "      <th>3</th>\n",
       "      <td>AskReddit</td>\n",
       "      <td>Would you watch a show where a billionaire CEO...</td>\n",
       "    </tr>\n",
       "    <tr>\n",
       "      <th>4</th>\n",
       "      <td>AskReddit</td>\n",
       "      <td>Reddit, how would you feel about a law that ba...</td>\n",
       "    </tr>\n",
       "  </tbody>\n",
       "</table>\n",
       "</div>"
      ],
      "text/plain": [
       "   subreddit                                              title\n",
       "0  AskReddit  People who haven't pooped in 2019 yet, why are...\n",
       "1  AskReddit  How would you feel about a feature where if so...\n",
       "2  AskReddit           Stan Lee has passed away at 95 years old\n",
       "3  AskReddit  Would you watch a show where a billionaire CEO...\n",
       "4  AskReddit  Reddit, how would you feel about a law that ba..."
      ]
     },
     "execution_count": 10,
     "metadata": {},
     "output_type": "execute_result"
    }
   ],
   "source": [
    "df.head()"
   ]
  },
  {
   "cell_type": "code",
   "execution_count": 8,
   "metadata": {},
   "outputs": [
    {
     "data": {
      "text/plain": [
       "2500"
      ]
     },
     "execution_count": 8,
     "metadata": {},
     "output_type": "execute_result"
    }
   ],
   "source": [
    "# Construct features\n",
    "df_feat = pd.DataFrame(columns=['subreddit', 'title', 'len', ''])"
   ]
  }
 ],
 "metadata": {
  "kernelspec": {
   "display_name": "Python 3",
   "language": "python",
   "name": "python3"
  },
  "language_info": {
   "codemirror_mode": {
    "name": "ipython",
    "version": 3
   },
   "file_extension": ".py",
   "mimetype": "text/x-python",
   "name": "python",
   "nbconvert_exporter": "python",
   "pygments_lexer": "ipython3",
   "version": "3.7.1"
  }
 },
 "nbformat": 4,
 "nbformat_minor": 2
}
